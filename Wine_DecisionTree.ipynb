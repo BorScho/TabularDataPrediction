{
 "cells": [
  {
   "cell_type": "code",
   "execution_count": 4,
   "metadata": {},
   "outputs": [],
   "source": [
    "from sklearn.tree import DecisionTreeClassifier\n",
    "import pandas as pd\n",
    "import numpy as np\n",
    "from pathlib import Path"
   ]
  },
  {
   "cell_type": "code",
   "execution_count": null,
   "metadata": {},
   "outputs": [],
   "source": [
    "data_path = Path(\"./winequality-white.csv\")\n",
    "wine_df = pd.read_csv(data_path, header=0, names=[\"fixed acidity\", \"volatile acidity\", \"citric acid\", \"residual sugar\", \"chlorides\", \"free sulfur dioxide\", \"total sulfur dioxide\", \"density\", \n",
    "\"pH\", \"sulphates\", \"alcohol\", \"quality\"], sep=\";\")\n",
    "\n",
    "# data overview:\n",
    "print(wine_df.describe())\n",
    "\n",
    "# which quality classes do we have? :\n",
    "qualities = wine_df[\"quality\"].unique()\n",
    "print(f\"Number of unique 'qualities': {len(qualities)}\")\n",
    "print(f\"Qualities: {sorted(qualities)}\")\n",
    "binc = np.bincount([q for q in wine_df[\"quality\"]])\n",
    "no_inst = len(wine_df)\n",
    "print(f\"\\nClass counts: {binc}\")\n",
    "print(f\"\\nNumber of instances: {no_inst} \")\n",
    "print(f\"\\nClass fractions: {np.round(binc/no_inst,4) * 100}\")"
   ]
  },
  {
   "cell_type": "code",
   "execution_count": 18,
   "metadata": {},
   "outputs": [
    {
     "data": {
      "text/plain": [
       "(4898, 12)"
      ]
     },
     "execution_count": 18,
     "metadata": {},
     "output_type": "execute_result"
    }
   ],
   "source": [
    "wine_df.shape # (4898,12)"
   ]
  },
  {
   "cell_type": "code",
   "execution_count": 23,
   "metadata": {},
   "outputs": [
    {
     "data": {
      "text/plain": [
       "((4000, 11), (4000,), (898, 11), (898,))"
      ]
     },
     "execution_count": 23,
     "metadata": {},
     "output_type": "execute_result"
    }
   ],
   "source": [
    "from numpy.random import default_rng\n",
    "from sklearn.metrics import accuracy_score\n",
    "\n",
    "data = wine_df.to_numpy()\n",
    "\n",
    "rng = default_rng(42)\n",
    "rng.shuffle(data)\n",
    "\n",
    "X_train = data[898:, :-1]\n",
    "y_train = data[898:, -1]\n",
    "X_test = data[:898, :-1]\n",
    "y_test = data[:898, -1]\n",
    "\n",
    "X_train.shape, y_train.shape, X_test.shape, y_test.shape\n"
   ]
  },
  {
   "cell_type": "code",
   "execution_count": 41,
   "metadata": {},
   "outputs": [
    {
     "name": "stdout",
     "output_type": "stream",
     "text": [
      "acc: 0.5924276169265034\n"
     ]
    }
   ],
   "source": [
    "tree_reg = DecisionTreeClassifier(max_depth=20)\n",
    "tree_reg.fit(X_train, y_train)\n",
    "\n",
    "y_pred = tree_reg.predict(X_test)\n",
    "\n",
    "acc = accuracy_score(y_test, y_pred)\n",
    "print(f\"acc: {acc}\")"
   ]
  },
  {
   "cell_type": "code",
   "execution_count": null,
   "metadata": {},
   "outputs": [],
   "source": [
    "from sklearn.ensemble import AdaBoostClassifier\n",
    "\n",
    "ada_clf = AdaBoostClassifier(\n",
    "    DecisionTreeClassifier(max_depth=10),\n",
    "    n_estimators=600, \n",
    "    algorithm=\"SAMME.R\",\n",
    "    learning_rate=0.6\n",
    ")\n",
    "\n",
    "ada_clf.fit(X_train, y_train)\n",
    "y_pred = ada_clf.predict(X_test)\n",
    "\n",
    "print(accuracy_score(y_test, y_pred))"
   ]
  },
  {
   "cell_type": "markdown",
   "metadata": {},
   "source": [
    "ada_clf = AdaBoostClassifier( <br>\n",
    "    DecisionTreeClassifier(max_depth=10), <br>\n",
    "    n_estimators=600, <br>\n",
    "    algorithm=\"SAMME.R\", <br>\n",
    "    learning_rate=0.6 <br>\n",
    ") <br>\n",
    "<br>\n",
    "running-time: 25.7s <br>\n",
    "accuracy: 0.7160 <br>"
   ]
  }
 ],
 "metadata": {
  "interpreter": {
   "hash": "63c4844b7ff1ba2a0ea33a2a697d60509a196ce3d2a18c44c2b4fb054ba492a5"
  },
  "kernelspec": {
   "display_name": "Python 3.9.7 ('conenv_fileassociation')",
   "language": "python",
   "name": "python3"
  },
  "language_info": {
   "codemirror_mode": {
    "name": "ipython",
    "version": 3
   },
   "file_extension": ".py",
   "mimetype": "text/x-python",
   "name": "python",
   "nbconvert_exporter": "python",
   "pygments_lexer": "ipython3",
   "version": "3.9.7"
  },
  "orig_nbformat": 4
 },
 "nbformat": 4,
 "nbformat_minor": 2
}
