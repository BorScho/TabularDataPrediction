{
 "cells": [
  {
   "cell_type": "code",
   "execution_count": 3,
   "metadata": {},
   "outputs": [],
   "source": [
    "import numpy as np\n",
    "from sklearn.pipeline import Pipeline\n",
    "from sklearn.preprocessing import StandardScaler\n",
    "from sklearn.svm import LinearSVC\n",
    "from sklearn.svm import SVC\n"
   ]
  },
  {
   "cell_type": "code",
   "execution_count": 6,
   "metadata": {},
   "outputs": [
    {
     "name": "stdout",
     "output_type": "stream",
     "text": [
      "(4898, 12)\n",
      "[[7.000e+00 2.700e-01 3.600e-01 2.070e+01 4.500e-02 4.500e+01 1.700e+02\n",
      "  1.001e+00 3.000e+00 4.500e-01 8.800e+00 6.000e+00]\n",
      " [6.300e+00 3.000e-01 3.400e-01 1.600e+00 4.900e-02 1.400e+01 1.320e+02\n",
      "  9.940e-01 3.300e+00 4.900e-01 9.500e+00 6.000e+00]\n",
      " [8.100e+00 2.800e-01 4.000e-01 6.900e+00 5.000e-02 3.000e+01 9.700e+01\n",
      "  9.951e-01 3.260e+00 4.400e-01 1.010e+01 6.000e+00]]\n"
     ]
    }
   ],
   "source": [
    "# read data:\n",
    "\n",
    "data_np = np.loadtxt(\"winequality-white.csv\", dtype=float, delimiter=\";\", skiprows=1, ndmin=2)\n",
    "\n",
    "print(data_np.shape)\n",
    "print(data_np[:3])"
   ]
  },
  {
   "cell_type": "code",
   "execution_count": 7,
   "metadata": {},
   "outputs": [
    {
     "name": "stdout",
     "output_type": "stream",
     "text": [
      "(4898, 11)\n",
      "(4898,)\n"
     ]
    }
   ],
   "source": [
    "# train - test split the data\n",
    "from sklearn.model_selection import train_test_split\n",
    "from sklearn.metrics import accuracy_score\n",
    "\n",
    "X = data_np[:,:-1]\n",
    "print(X.shape)\n",
    "y = data_np[:,-1]\n",
    "print(y.shape)\n",
    "\n",
    "X_train, X_test, y_train, y_test = train_test_split(X,y, test_size=0.2, random_state=11)\n",
    "\n"
   ]
  },
  {
   "cell_type": "code",
   "execution_count": 8,
   "metadata": {},
   "outputs": [
    {
     "name": "stdout",
     "output_type": "stream",
     "text": [
      "accuracy_score: 0.47\n"
     ]
    },
    {
     "name": "stderr",
     "output_type": "stream",
     "text": [
      "C:\\ProgramData\\Anaconda3\\envs\\conda_tabularData\\lib\\site-packages\\sklearn\\svm\\_base.py:985: ConvergenceWarning: Liblinear failed to converge, increase the number of iterations.\n",
      "  warnings.warn(\"Liblinear failed to converge, increase \"\n"
     ]
    }
   ],
   "source": [
    "# use linear svc:\n",
    "\n",
    "svm_clf = Pipeline([\n",
    "    (\"scaler\", StandardScaler()),\n",
    "    (\"linear_svc\", LinearSVC(C=100, loss=\"hinge\"))\n",
    "    ])\n",
    "\n",
    "svm_clf.fit(X_train,y_train)\n",
    "y_pred = svm_clf.predict(X_test)\n",
    "\n",
    "print(f\"accuracy_score: {accuracy_score(y_test, y_pred):.2}\")\n",
    "\n",
    "# Output:\n",
    "# (\"linear_svc\", LinearSVC(C=100, loss=\"hinge\"))\n",
    "# >>> accuracy_score: 0.47\n",
    "# >>> 0.6s"
   ]
  },
  {
   "cell_type": "code",
   "execution_count": 9,
   "metadata": {},
   "outputs": [
    {
     "name": "stdout",
     "output_type": "stream",
     "text": [
      "accuracy_score: 0.44\n"
     ]
    },
    {
     "name": "stderr",
     "output_type": "stream",
     "text": [
      "C:\\ProgramData\\Anaconda3\\envs\\conda_tabularData\\lib\\site-packages\\sklearn\\svm\\_base.py:985: ConvergenceWarning: Liblinear failed to converge, increase the number of iterations.\n",
      "  warnings.warn(\"Liblinear failed to converge, increase \"\n"
     ]
    }
   ],
   "source": [
    "# use polynomial features:\n",
    "from sklearn.preprocessing import PolynomialFeatures\n",
    "\n",
    "svm_poly_clf = Pipeline([\n",
    "    (\"poly_features\", PolynomialFeatures(degree=3)),\n",
    "    (\"scaler\", StandardScaler()),\n",
    "    (\"svm_linear_clf\", LinearSVC(C=10, loss=\"hinge\"))\n",
    "])\n",
    "\n",
    "svm_poly_clf.fit(X_train, y_train)\n",
    "y_pred = svm_poly_clf.predict(X_test)\n",
    "\n",
    "print(f\"accuracy_score: {accuracy_score(y_test, y_pred):.2}\")\n",
    "\n",
    "# Output:\n",
    "# (\"poly_features\", PolynomialFeatures(degree=3)),\n",
    "# (\"svm_linear_clf\", LinearSVC(C=10, loss=\"hinge\"))\n",
    "# >>> accuracy_score: 0.5\n",
    "# >>> 8.3s"
   ]
  },
  {
   "cell_type": "code",
   "execution_count": 61,
   "metadata": {},
   "outputs": [
    {
     "name": "stdout",
     "output_type": "stream",
     "text": [
      "accuracy_score: 0.64\n"
     ]
    }
   ],
   "source": [
    "# use kernel-trick and higher order polynomial features:\n",
    "\n",
    "svm_poly_kernel_clf=Pipeline([\n",
    "    (\"scaler\", StandardScaler()),\n",
    "    (\"kernel_SVC\", SVC(kernel=\"poly\", degree=6, coef0=1, C=10))\n",
    "])\n",
    "\n",
    "svm_poly_kernel_clf.fit(X_train, y_train)\n",
    "y_pred= svm_poly_kernel_clf.predict(X_test)\n",
    "\n",
    "print(f\"accuracy_score: {accuracy_score(y_true=y_test, y_pred=y_pred):.2}\")\n",
    "\n",
    "# Output:\n",
    "#  (\"kernel_SVC\", SVC(kernel=\"poly\", degree=6, coef0=1, C=10))\n",
    "# >>> accuracy_score: 0.64\n",
    "# >>> 2.8s"
   ]
  },
  {
   "cell_type": "code",
   "execution_count": 33,
   "metadata": {},
   "outputs": [],
   "source": [
    "# load train and test set for use in \"Wine_StackedVoting.ipynb\":\n",
    "\n",
    "X_train = np.loadtxt(\"train.csv\", dtype=float, delimiter=\",\", skiprows=1, ndmin=2)\n",
    "y_train = X_train[:,-1]\n",
    "X_train = X_train[:, :-1]\n",
    "\n",
    "X_test = np.loadtxt(\"test.csv\", dtype=float, delimiter=\",\", skiprows=1, ndmin=2)\n",
    "y_test = X_test[:,-1]\n",
    "X_test = X_test[:, :-1]"
   ]
  },
  {
   "cell_type": "code",
   "execution_count": 34,
   "metadata": {},
   "outputs": [
    {
     "name": "stdout",
     "output_type": "stream",
     "text": [
      "accuracy_score: 0.67\n"
     ]
    }
   ],
   "source": [
    "# use Gaussian RBF:\n",
    "\n",
    "svm_rbf_kernel_clf= Pipeline([\n",
    "    (\"scaler\", StandardScaler()),\n",
    "    (\"rbf_kernel_SVC\", SVC(kernel=\"rbf\", gamma=1, C=50))\n",
    "])\n",
    "\n",
    "svm_rbf_kernel_clf.fit(X_train, y_train)\n",
    "y_pred= svm_rbf_kernel_clf.predict(X_test)\n",
    "\n",
    "print(f\"accuracy_score: {accuracy_score(y_pred=y_pred, y_true=y_test):.2}\")\n",
    "\n",
    "# Output:\n",
    "# (\"rbf_kernel_SVC\", SVC(kernel=\"rbf\", gamma=1, C=50))\n",
    "# accuracy_score: 0.68\n",
    "# 1.2s  "
   ]
  },
  {
   "cell_type": "code",
   "execution_count": 38,
   "metadata": {},
   "outputs": [
    {
     "name": "stdout",
     "output_type": "stream",
     "text": [
      "reloaded_svm prediction: [8.]\n"
     ]
    }
   ],
   "source": [
    "# save svm classifier:\n",
    "import pickle\n",
    "\n",
    "filename=\"svm_rbf_kernel_0.67_G1_C50.svm\"\n",
    "pickle.dump(svm_rbf_kernel_clf, open(filename, \"wb\"))\n",
    "\n",
    "# Test dumping by reloading:\n",
    "\n",
    "reloaded_svm = pickle.load(open(filename, \"rb\"))\n",
    "print(f\"reloaded_svm prediction: {reloaded_svm.predict(X_test[0].reshape(1,-1))}\")\n"
   ]
  }
 ],
 "metadata": {
  "interpreter": {
   "hash": "9ee9e56fd4d49e3ff65ef8bd933edccd114721c95ff605d39e8f8a8284bbb618"
  },
  "kernelspec": {
   "display_name": "Python 3.9.7 ('conda_tabularData')",
   "language": "python",
   "name": "python3"
  },
  "language_info": {
   "codemirror_mode": {
    "name": "ipython",
    "version": 3
   },
   "file_extension": ".py",
   "mimetype": "text/x-python",
   "name": "python",
   "nbconvert_exporter": "python",
   "pygments_lexer": "ipython3",
   "version": "3.9.7"
  },
  "orig_nbformat": 4
 },
 "nbformat": 4,
 "nbformat_minor": 2
}
